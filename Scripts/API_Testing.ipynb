{
 "cells": [
  {
   "cell_type": "markdown",
   "id": "9b8c6c87-f115-4b5c-91e8-ed296083482f",
   "metadata": {},
   "source": [
    "\n",
    "# API Testing\n"
   ]
  },
  {
   "cell_type": "code",
   "execution_count": null,
   "id": "053cfe91-66c2-493f-b36c-c761f50c2121",
   "metadata": {},
   "outputs": [],
   "source": [
    "import requests\n",
    "import json\n",
    "\n",
    "# Getting secret value from Key Vault\n",
    "weatherapikey = dbutils.secrets.get(scope=\"key-vault-scope\", key=\"weatherapikey\")\n",
    "location = \"Chennai\"  # You can replace with city name based on your preference\n",
    "base_url = \"http://api.weatherapi.com/v1/current.json\"\n",
    "params = {\n",
    "    'key': weatherapikey,\n",
    "    'q': location\n",
    "}\n",
    "\n",
    "response = requests.get(base_url, params=params)\n",
    "if response.status_code == 200:\n",
    "    current_weather = response.json()\n",
    "    print(\"Current Weather:\")\n",
    "    print(json.dumps(current_weather, indent=3))\n",
    "else:\n",
    "    print(f\"Error: {response.status_code}, {response.text}\")\n",
    "    "
   ]
  },
  {
   "cell_type": "code",
   "execution_count": null,
   "id": "e5c65876-8638-4c7d-97c6-7b0cf9d3b6db",
   "metadata": {},
   "outputs": [],
   "source": []
  }
 ],
 "metadata": {
  "kernelspec": {
   "display_name": "Python 3 (ipykernel)",
   "language": "python",
   "name": "python3"
  },
  "language_info": {
   "codemirror_mode": {
    "name": "ipython",
    "version": 3
   },
   "file_extension": ".py",
   "mimetype": "text/x-python",
   "name": "python",
   "nbconvert_exporter": "python",
   "pygments_lexer": "ipython3",
   "version": "3.11.7"
  }
 },
 "nbformat": 4,
 "nbformat_minor": 5
}
